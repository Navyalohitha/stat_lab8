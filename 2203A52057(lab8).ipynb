{
  "nbformat": 4,
  "nbformat_minor": 0,
  "metadata": {
    "colab": {
      "provenance": []
    },
    "kernelspec": {
      "name": "python3",
      "display_name": "Python 3"
    },
    "language_info": {
      "name": "python"
    }
  },
  "cells": [
    {
      "cell_type": "code",
      "execution_count": 1,
      "metadata": {
        "colab": {
          "base_uri": "https://localhost:8080/"
        },
        "id": "ywpE9oSf5idk",
        "outputId": "db65878d-258d-497b-cd3e-eb5137830614"
      },
      "outputs": [
        {
          "output_type": "stream",
          "name": "stdout",
          "text": [
            "     Alcohol  Malic_Acid   Ash  Ash_Alcanity  Magnesium  Total_Phenols  \\\n",
            "0      14.23        1.71  2.43          15.6        127           2.80   \n",
            "1      13.20        1.78  2.14          11.2        100           2.65   \n",
            "2      13.16        2.36  2.67          18.6        101           2.80   \n",
            "3      14.37        1.95  2.50          16.8        113           3.85   \n",
            "4      13.24        2.59  2.87          21.0        118           2.80   \n",
            "..       ...         ...   ...           ...        ...            ...   \n",
            "173    13.71        5.65  2.45          20.5         95           1.68   \n",
            "174    13.40        3.91  2.48          23.0        102           1.80   \n",
            "175    13.27        4.28  2.26          20.0        120           1.59   \n",
            "176    13.17        2.59  2.37          20.0        120           1.65   \n",
            "177    14.13        4.10  2.74          24.5         96           2.05   \n",
            "\n",
            "     Flavanoids  Nonflavanoid_Phenols  Proanthocyanins  Color_Intensity   Hue  \\\n",
            "0          3.06                  0.28             2.29             5.64  1.04   \n",
            "1          2.76                  0.26             1.28             4.38  1.05   \n",
            "2          3.24                  0.30             2.81             5.68  1.03   \n",
            "3          3.49                  0.24             2.18             7.80  0.86   \n",
            "4          2.69                  0.39             1.82             4.32  1.04   \n",
            "..          ...                   ...              ...              ...   ...   \n",
            "173        0.61                  0.52             1.06             7.70  0.64   \n",
            "174        0.75                  0.43             1.41             7.30  0.70   \n",
            "175        0.69                  0.43             1.35            10.20  0.59   \n",
            "176        0.68                  0.53             1.46             9.30  0.60   \n",
            "177        0.76                  0.56             1.35             9.20  0.61   \n",
            "\n",
            "     OD280  Proline  Customer_Segment  \n",
            "0     3.92     1065                 1  \n",
            "1     3.40     1050                 1  \n",
            "2     3.17     1185                 1  \n",
            "3     3.45     1480                 1  \n",
            "4     2.93      735                 1  \n",
            "..     ...      ...               ...  \n",
            "173   1.74      740                 3  \n",
            "174   1.56      750                 3  \n",
            "175   1.56      835                 3  \n",
            "176   1.62      840                 3  \n",
            "177   1.60      560                 3  \n",
            "\n",
            "[178 rows x 14 columns]\n"
          ]
        }
      ],
      "source": [
        "import pandas as pd\n",
        "data = pd.read_csv('/content/Wine.csv')\n",
        "print(data)"
      ]
    },
    {
      "cell_type": "code",
      "source": [
        "features = data.drop(columns=['Customer_Segment'])\n",
        "print(features)\n"
      ],
      "metadata": {
        "colab": {
          "base_uri": "https://localhost:8080/"
        },
        "id": "-Fz5fR6X6Py3",
        "outputId": "209845e1-1de3-470c-b385-49b64cb96bbe"
      },
      "execution_count": 2,
      "outputs": [
        {
          "output_type": "stream",
          "name": "stdout",
          "text": [
            "     Alcohol  Malic_Acid   Ash  Ash_Alcanity  Magnesium  Total_Phenols  \\\n",
            "0      14.23        1.71  2.43          15.6        127           2.80   \n",
            "1      13.20        1.78  2.14          11.2        100           2.65   \n",
            "2      13.16        2.36  2.67          18.6        101           2.80   \n",
            "3      14.37        1.95  2.50          16.8        113           3.85   \n",
            "4      13.24        2.59  2.87          21.0        118           2.80   \n",
            "..       ...         ...   ...           ...        ...            ...   \n",
            "173    13.71        5.65  2.45          20.5         95           1.68   \n",
            "174    13.40        3.91  2.48          23.0        102           1.80   \n",
            "175    13.27        4.28  2.26          20.0        120           1.59   \n",
            "176    13.17        2.59  2.37          20.0        120           1.65   \n",
            "177    14.13        4.10  2.74          24.5         96           2.05   \n",
            "\n",
            "     Flavanoids  Nonflavanoid_Phenols  Proanthocyanins  Color_Intensity   Hue  \\\n",
            "0          3.06                  0.28             2.29             5.64  1.04   \n",
            "1          2.76                  0.26             1.28             4.38  1.05   \n",
            "2          3.24                  0.30             2.81             5.68  1.03   \n",
            "3          3.49                  0.24             2.18             7.80  0.86   \n",
            "4          2.69                  0.39             1.82             4.32  1.04   \n",
            "..          ...                   ...              ...              ...   ...   \n",
            "173        0.61                  0.52             1.06             7.70  0.64   \n",
            "174        0.75                  0.43             1.41             7.30  0.70   \n",
            "175        0.69                  0.43             1.35            10.20  0.59   \n",
            "176        0.68                  0.53             1.46             9.30  0.60   \n",
            "177        0.76                  0.56             1.35             9.20  0.61   \n",
            "\n",
            "     OD280  Proline  \n",
            "0     3.92     1065  \n",
            "1     3.40     1050  \n",
            "2     3.17     1185  \n",
            "3     3.45     1480  \n",
            "4     2.93      735  \n",
            "..     ...      ...  \n",
            "173   1.74      740  \n",
            "174   1.56      750  \n",
            "175   1.56      835  \n",
            "176   1.62      840  \n",
            "177   1.60      560  \n",
            "\n",
            "[178 rows x 13 columns]\n"
          ]
        }
      ]
    },
    {
      "cell_type": "code",
      "source": [
        "target = data['Customer_Segment']\n",
        "print(target)"
      ],
      "metadata": {
        "colab": {
          "base_uri": "https://localhost:8080/"
        },
        "id": "sfHd_GmR6X9l",
        "outputId": "04e1b1c1-e6ce-4ac2-d452-1f01938c33ff"
      },
      "execution_count": 3,
      "outputs": [
        {
          "output_type": "stream",
          "name": "stdout",
          "text": [
            "0      1\n",
            "1      1\n",
            "2      1\n",
            "3      1\n",
            "4      1\n",
            "      ..\n",
            "173    3\n",
            "174    3\n",
            "175    3\n",
            "176    3\n",
            "177    3\n",
            "Name: Customer_Segment, Length: 178, dtype: int64\n"
          ]
        }
      ]
    },
    {
      "cell_type": "code",
      "source": [
        "from sklearn.decomposition import PCA\n",
        "from sklearn.preprocessing import StandardScaler\n",
        "scaler = StandardScaler()\n",
        "scaled_features = scaler.fit_transform(features)\n",
        "pca = PCA(n_components=2)\n",
        "print(scaled_features)\n"
      ],
      "metadata": {
        "colab": {
          "base_uri": "https://localhost:8080/"
        },
        "id": "8ez-Ps6o6pmY",
        "outputId": "675e7e12-272d-49e1-ef43-5e99df4f0285"
      },
      "execution_count": 11,
      "outputs": [
        {
          "output_type": "stream",
          "name": "stdout",
          "text": [
            "[[ 1.51861254 -0.5622498   0.23205254 ...  0.36217728  1.84791957\n",
            "   1.01300893]\n",
            " [ 0.24628963 -0.49941338 -0.82799632 ...  0.40605066  1.1134493\n",
            "   0.96524152]\n",
            " [ 0.19687903  0.02123125  1.10933436 ...  0.31830389  0.78858745\n",
            "   1.39514818]\n",
            " ...\n",
            " [ 0.33275817  1.74474449 -0.38935541 ... -1.61212515 -1.48544548\n",
            "   0.28057537]\n",
            " [ 0.20923168  0.22769377  0.01273209 ... -1.56825176 -1.40069891\n",
            "   0.29649784]\n",
            " [ 1.39508604  1.58316512  1.36520822 ... -1.52437837 -1.42894777\n",
            "  -0.59516041]]\n"
          ]
        }
      ]
    },
    {
      "cell_type": "code",
      "source": [
        "reduced_features = pca.fit_transform(scaled_features)\n",
        "print(reduced_features)"
      ],
      "metadata": {
        "colab": {
          "base_uri": "https://localhost:8080/"
        },
        "id": "pAINKRCc7F-r",
        "outputId": "3c57ad56-6f07-43d0-de2c-033b1ad77b3f"
      },
      "execution_count": 12,
      "outputs": [
        {
          "output_type": "stream",
          "name": "stdout",
          "text": [
            "[[ 3.31675081 -1.44346263]\n",
            " [ 2.20946492  0.33339289]\n",
            " [ 2.51674015 -1.0311513 ]\n",
            " [ 3.75706561 -2.75637191]\n",
            " [ 1.00890849 -0.86983082]\n",
            " [ 3.05025392 -2.12240111]\n",
            " [ 2.44908967 -1.17485013]\n",
            " [ 2.05943687 -1.60896307]\n",
            " [ 2.5108743  -0.91807096]\n",
            " [ 2.75362819 -0.78943767]\n",
            " [ 3.47973668 -1.30233324]\n",
            " [ 1.7547529  -0.61197723]\n",
            " [ 2.11346234 -0.67570634]\n",
            " [ 3.45815682 -1.13062988]\n",
            " [ 4.31278391 -2.09597558]\n",
            " [ 2.3051882  -1.66255173]\n",
            " [ 2.17195527 -2.32730534]\n",
            " [ 1.89897118 -1.63136888]\n",
            " [ 3.54198508 -2.51834367]\n",
            " [ 2.0845222  -1.06113799]\n",
            " [ 3.12440254 -0.78689711]\n",
            " [ 1.08657007 -0.24174355]\n",
            " [ 2.53522408  0.09184062]\n",
            " [ 1.64498834  0.51627893]\n",
            " [ 1.76157587  0.31714893]\n",
            " [ 0.9900791  -0.94066734]\n",
            " [ 1.77527763 -0.68617513]\n",
            " [ 1.23542396  0.08980704]\n",
            " [ 2.18840633 -0.68956962]\n",
            " [ 2.25610898 -0.19146194]\n",
            " [ 2.50022003 -1.24083383]\n",
            " [ 2.67741105 -1.47187365]\n",
            " [ 1.62857912 -0.05270445]\n",
            " [ 1.90269086 -1.63306043]\n",
            " [ 1.41038853 -0.69793432]\n",
            " [ 1.90382623 -0.17671095]\n",
            " [ 1.38486223 -0.65863985]\n",
            " [ 1.12220741 -0.11410976]\n",
            " [ 1.5021945   0.76943201]\n",
            " [ 2.52980109 -1.80300198]\n",
            " [ 2.58809543 -0.7796163 ]\n",
            " [ 0.66848199 -0.16996094]\n",
            " [ 3.07080699 -1.15591896]\n",
            " [ 0.46220914 -0.33074213]\n",
            " [ 2.10135193  0.07100892]\n",
            " [ 1.13616618 -1.77710739]\n",
            " [ 2.72660096 -1.19133469]\n",
            " [ 2.82133927 -0.6462586 ]\n",
            " [ 2.00985085 -1.24702946]\n",
            " [ 2.7074913  -1.75196741]\n",
            " [ 3.21491747 -0.16699199]\n",
            " [ 2.85895983 -0.7452788 ]\n",
            " [ 3.50560436 -1.61273386]\n",
            " [ 2.22479138 -1.875168  ]\n",
            " [ 2.14698782 -1.01675154]\n",
            " [ 2.46932948 -1.32900831]\n",
            " [ 2.74151791 -1.43654878]\n",
            " [ 2.17374092 -1.21219984]\n",
            " [ 3.13938015 -1.73157912]\n",
            " [-0.92858197  3.07348616]\n",
            " [-1.54248014  1.38144351]\n",
            " [-1.83624976  0.82998412]\n",
            " [ 0.03060683  1.26278614]\n",
            " [ 2.05026161  1.9250326 ]\n",
            " [-0.60968083  1.90805881]\n",
            " [ 0.90022784  0.76391147]\n",
            " [ 2.24850719  1.88459248]\n",
            " [ 0.18338403  2.42714611]\n",
            " [-0.81280503  0.22051399]\n",
            " [ 1.9756205   1.40328323]\n",
            " [-1.57221622  0.88498314]\n",
            " [ 1.65768181  0.9567122 ]\n",
            " [-0.72537239  1.0636454 ]\n",
            " [ 2.56222717 -0.26019855]\n",
            " [ 1.83256757  1.2878782 ]\n",
            " [-0.8679929   2.44410119]\n",
            " [ 0.3700144   2.15390698]\n",
            " [-1.45737704  1.38335177]\n",
            " [ 1.26293085  0.77084953]\n",
            " [ 0.37615037  1.0270434 ]\n",
            " [ 0.7620639   3.37505381]\n",
            " [ 1.03457797  1.45070974]\n",
            " [-0.49487676  2.38124353]\n",
            " [-2.53897708  0.08744336]\n",
            " [ 0.83532015  1.47367055]\n",
            " [ 0.78790461  2.02662652]\n",
            " [-0.80683216  2.23383039]\n",
            " [-0.55804262  2.37298543]\n",
            " [-1.11511104  1.80224719]\n",
            " [-0.55572283  2.65754004]\n",
            " [-1.34928528  2.11800147]\n",
            " [-1.56448261  1.85221452]\n",
            " [-1.93255561  1.55949546]\n",
            " [ 0.74666594  2.31293171]\n",
            " [ 0.95745536  2.22352843]\n",
            " [ 2.54386518 -0.16927402]\n",
            " [-0.54395259  0.36892655]\n",
            " [ 1.03104975  2.56556935]\n",
            " [ 2.25190942  1.43274138]\n",
            " [ 1.41021602  2.16619177]\n",
            " [ 0.79771979  2.3769488 ]\n",
            " [-0.54953173  2.29312864]\n",
            " [-0.16117374  1.16448332]\n",
            " [-0.65979494  2.67996119]\n",
            " [ 0.39235441  2.09873171]\n",
            " [-1.77249908  1.71728847]\n",
            " [-0.36626736  2.1693533 ]\n",
            " [-1.62067257  1.35558339]\n",
            " [ 0.08253578  2.30623459]\n",
            " [ 1.57827507  1.46203429]\n",
            " [ 1.42056925  1.41820664]\n",
            " [-0.27870275  1.93056809]\n",
            " [-1.30314497  0.76317231]\n",
            " [-0.45707187  2.26941561]\n",
            " [-0.49418585  1.93904505]\n",
            " [ 0.48207441  3.87178385]\n",
            " [-0.25288888  2.82149237]\n",
            " [-0.10722764  1.92892204]\n",
            " [-2.4330126   1.25714104]\n",
            " [-0.55108954  2.22216155]\n",
            " [ 0.73962193  1.40895667]\n",
            " [ 1.33632173 -0.25333693]\n",
            " [-1.177087    0.66396684]\n",
            " [-0.46233501  0.61828818]\n",
            " [ 0.97847408  1.4455705 ]\n",
            " [-0.09680973  2.10999799]\n",
            " [ 0.03848715  1.26676211]\n",
            " [-1.5971585   1.20814357]\n",
            " [-0.47956492  1.93884066]\n",
            " [-1.79283347  1.1502881 ]\n",
            " [-1.32710166 -0.17038923]\n",
            " [-2.38450083 -0.37458261]\n",
            " [-2.9369401  -0.26386183]\n",
            " [-2.14681113 -0.36825495]\n",
            " [-2.36986949  0.45963481]\n",
            " [-3.06384157 -0.35341284]\n",
            " [-3.91575378 -0.15458252]\n",
            " [-3.93646339 -0.65968723]\n",
            " [-3.09427612 -0.34884276]\n",
            " [-2.37447163 -0.29198035]\n",
            " [-2.77881295 -0.28680487]\n",
            " [-2.28656128 -0.37250784]\n",
            " [-2.98563349 -0.48921791]\n",
            " [-2.3751947  -0.48233372]\n",
            " [-2.20986553 -1.1600525 ]\n",
            " [-2.625621   -0.56316076]\n",
            " [-4.28063878 -0.64967096]\n",
            " [-3.58264137 -1.27270275]\n",
            " [-2.80706372 -1.57053379]\n",
            " [-2.89965933 -2.04105701]\n",
            " [-2.32073698 -2.35636608]\n",
            " [-2.54983095 -2.04528309]\n",
            " [-1.81254128 -1.52764595]\n",
            " [-2.76014464 -2.13893235]\n",
            " [-2.7371505  -0.40988627]\n",
            " [-3.60486887 -1.80238422]\n",
            " [-2.889826   -1.92521861]\n",
            " [-3.39215608 -1.31187639]\n",
            " [-1.0481819  -3.51508969]\n",
            " [-1.60991228 -2.40663816]\n",
            " [-3.14313097 -0.73816104]\n",
            " [-2.2401569  -1.17546529]\n",
            " [-2.84767378 -0.55604397]\n",
            " [-2.59749706 -0.69796554]\n",
            " [-2.94929937 -1.55530896]\n",
            " [-3.53003227 -0.8825268 ]\n",
            " [-2.40611054 -2.59235618]\n",
            " [-2.92908473 -1.27444695]\n",
            " [-2.18141278 -2.07753731]\n",
            " [-2.38092779 -2.58866743]\n",
            " [-3.21161722  0.2512491 ]\n",
            " [-3.67791872 -0.84774784]\n",
            " [-2.4655558  -2.1937983 ]\n",
            " [-3.37052415 -2.21628914]\n",
            " [-2.60195585 -1.75722935]\n",
            " [-2.67783946 -2.76089913]\n",
            " [-2.38701709 -2.29734668]\n",
            " [-3.20875816 -2.76891957]]\n"
          ]
        }
      ]
    },
    {
      "cell_type": "code",
      "source": [
        "from sklearn.model_selection import train_test_split\n",
        "from sklearn.svm import SVC\n",
        "from sklearn.metrics import accuracy_score\n",
        "X_train, X_test, y_train, y_test = train_test_split(features, target, test_size=0.2, random_state=42)\n",
        "svm_original = SVC()\n",
        "svm_original.fit(X_train, y_train)\n",
        "y_pred_original = svm_original.predict(X_test)\n",
        "accuracy_original = accuracy_score(y_test, y_pred_original)\n",
        "X_train_reduced, X_test_reduced, _, _ = train_test_split(reduced_features, target, test_size=0.2, random_state=42)\n",
        "svm_reduced = SVC()\n",
        "svm_reduced.fit(X_train_reduced, y_train)\n",
        "y_pred_reduced = svm_reduced.predict(X_test_reduced)\n",
        "accuracy_reduced = accuracy_score(y_test, y_pred_reduced)\n",
        "print(\"Accuracy before PCA:\", accuracy_original)\n",
        "print(\"Accuracy after PCA:\", accuracy_reduced)\n"
      ],
      "metadata": {
        "colab": {
          "base_uri": "https://localhost:8080/"
        },
        "id": "az3uoILR7U-n",
        "outputId": "64ce2ad9-d096-4f1e-a174-e3b319a9c984"
      },
      "execution_count": 14,
      "outputs": [
        {
          "output_type": "stream",
          "name": "stdout",
          "text": [
            "Accuracy before PCA: 0.8055555555555556\n",
            "Accuracy after PCA: 1.0\n"
          ]
        }
      ]
    },
    {
      "cell_type": "code",
      "source": [
        "import pandas as pd\n",
        "data = pd.read_csv('/content/breast_cancer_survival.csv')\n",
        "print(data)"
      ],
      "metadata": {
        "colab": {
          "base_uri": "https://localhost:8080/"
        },
        "id": "a3l3jw_G9WJ6",
        "outputId": "841dc339-055d-4c92-8092-5867783a286f"
      },
      "execution_count": 15,
      "outputs": [
        {
          "output_type": "stream",
          "name": "stdout",
          "text": [
            "     Age  Gender  Protein1  Protein2  Protein3  Protein4 Tumour_Stage  \\\n",
            "0     42  FEMALE  0.952560   2.15000  0.007972 -0.048340           II   \n",
            "1     54  FEMALE  0.000000   1.38020 -0.498030 -0.507320           II   \n",
            "2     63  FEMALE -0.523030   1.76400 -0.370190  0.010815           II   \n",
            "3     78  FEMALE -0.876180   0.12943 -0.370380  0.132190            I   \n",
            "4     42  FEMALE  0.226110   1.74910 -0.543970 -0.390210           II   \n",
            "..   ...     ...       ...       ...       ...       ...          ...   \n",
            "329   59  FEMALE  0.024598   1.40050  0.024751  0.280320           II   \n",
            "330   41  FEMALE  0.100120  -0.46547  0.472370 -0.523870            I   \n",
            "331   54  FEMALE  0.753820   1.64250 -0.332850  0.857860           II   \n",
            "332   74  FEMALE  0.972510   1.42680 -0.366570 -0.107820           II   \n",
            "333   66  FEMALE  0.286380   1.39980  0.318830  0.836050           II   \n",
            "\n",
            "                          Histology ER status PR status HER2 status  \\\n",
            "0     Infiltrating Ductal Carcinoma  Positive  Positive    Negative   \n",
            "1     Infiltrating Ductal Carcinoma  Positive  Positive    Negative   \n",
            "2     Infiltrating Ductal Carcinoma  Positive  Positive    Negative   \n",
            "3     Infiltrating Ductal Carcinoma  Positive  Positive    Negative   \n",
            "4     Infiltrating Ductal Carcinoma  Positive  Positive    Positive   \n",
            "..                              ...       ...       ...         ...   \n",
            "329   Infiltrating Ductal Carcinoma  Positive  Positive    Positive   \n",
            "330   Infiltrating Ductal Carcinoma  Positive  Positive    Positive   \n",
            "331   Infiltrating Ductal Carcinoma  Positive  Positive    Negative   \n",
            "332  Infiltrating Lobular Carcinoma  Positive  Positive    Negative   \n",
            "333   Infiltrating Ductal Carcinoma  Positive  Positive    Negative   \n",
            "\n",
            "                    Surgery_type Date_of_Surgery Date_of_Last_Visit  \\\n",
            "0                          Other       20-May-18          26-Aug-18   \n",
            "1                          Other       26-Apr-18          25-Jan-19   \n",
            "2                     Lumpectomy       24-Aug-18          08-Apr-20   \n",
            "3                          Other       16-Nov-18          28-Jul-20   \n",
            "4                     Lumpectomy       12-Dec-18          05-Jan-19   \n",
            "..                           ...             ...                ...   \n",
            "329                   Lumpectomy       15-Jan-19          27-Mar-20   \n",
            "330  Modified Radical Mastectomy       25-Jul-18          23-Apr-19   \n",
            "331            Simple Mastectomy       26-Mar-19          11-Oct-19   \n",
            "332                   Lumpectomy       26-Nov-18          05-Dec-18   \n",
            "333  Modified Radical Mastectomy       04-Feb-19          10-Aug-19   \n",
            "\n",
            "    Patient_Status  \n",
            "0            Alive  \n",
            "1             Dead  \n",
            "2            Alive  \n",
            "3            Alive  \n",
            "4            Alive  \n",
            "..             ...  \n",
            "329          Alive  \n",
            "330          Alive  \n",
            "331           Dead  \n",
            "332          Alive  \n",
            "333           Dead  \n",
            "\n",
            "[334 rows x 15 columns]\n"
          ]
        }
      ]
    },
    {
      "cell_type": "code",
      "source": [
        "features = data.drop(columns=['Patient_Status'])\n",
        "print(features)\n"
      ],
      "metadata": {
        "colab": {
          "base_uri": "https://localhost:8080/"
        },
        "id": "fHHYoCGH9qj7",
        "outputId": "db2c4acd-0a3b-4502-efc1-a4dc74cd4c67"
      },
      "execution_count": 16,
      "outputs": [
        {
          "output_type": "stream",
          "name": "stdout",
          "text": [
            "     Age  Gender  Protein1  Protein2  Protein3  Protein4 Tumour_Stage  \\\n",
            "0     42  FEMALE  0.952560   2.15000  0.007972 -0.048340           II   \n",
            "1     54  FEMALE  0.000000   1.38020 -0.498030 -0.507320           II   \n",
            "2     63  FEMALE -0.523030   1.76400 -0.370190  0.010815           II   \n",
            "3     78  FEMALE -0.876180   0.12943 -0.370380  0.132190            I   \n",
            "4     42  FEMALE  0.226110   1.74910 -0.543970 -0.390210           II   \n",
            "..   ...     ...       ...       ...       ...       ...          ...   \n",
            "329   59  FEMALE  0.024598   1.40050  0.024751  0.280320           II   \n",
            "330   41  FEMALE  0.100120  -0.46547  0.472370 -0.523870            I   \n",
            "331   54  FEMALE  0.753820   1.64250 -0.332850  0.857860           II   \n",
            "332   74  FEMALE  0.972510   1.42680 -0.366570 -0.107820           II   \n",
            "333   66  FEMALE  0.286380   1.39980  0.318830  0.836050           II   \n",
            "\n",
            "                          Histology ER status PR status HER2 status  \\\n",
            "0     Infiltrating Ductal Carcinoma  Positive  Positive    Negative   \n",
            "1     Infiltrating Ductal Carcinoma  Positive  Positive    Negative   \n",
            "2     Infiltrating Ductal Carcinoma  Positive  Positive    Negative   \n",
            "3     Infiltrating Ductal Carcinoma  Positive  Positive    Negative   \n",
            "4     Infiltrating Ductal Carcinoma  Positive  Positive    Positive   \n",
            "..                              ...       ...       ...         ...   \n",
            "329   Infiltrating Ductal Carcinoma  Positive  Positive    Positive   \n",
            "330   Infiltrating Ductal Carcinoma  Positive  Positive    Positive   \n",
            "331   Infiltrating Ductal Carcinoma  Positive  Positive    Negative   \n",
            "332  Infiltrating Lobular Carcinoma  Positive  Positive    Negative   \n",
            "333   Infiltrating Ductal Carcinoma  Positive  Positive    Negative   \n",
            "\n",
            "                    Surgery_type Date_of_Surgery Date_of_Last_Visit  \n",
            "0                          Other       20-May-18          26-Aug-18  \n",
            "1                          Other       26-Apr-18          25-Jan-19  \n",
            "2                     Lumpectomy       24-Aug-18          08-Apr-20  \n",
            "3                          Other       16-Nov-18          28-Jul-20  \n",
            "4                     Lumpectomy       12-Dec-18          05-Jan-19  \n",
            "..                           ...             ...                ...  \n",
            "329                   Lumpectomy       15-Jan-19          27-Mar-20  \n",
            "330  Modified Radical Mastectomy       25-Jul-18          23-Apr-19  \n",
            "331            Simple Mastectomy       26-Mar-19          11-Oct-19  \n",
            "332                   Lumpectomy       26-Nov-18          05-Dec-18  \n",
            "333  Modified Radical Mastectomy       04-Feb-19          10-Aug-19  \n",
            "\n",
            "[334 rows x 14 columns]\n"
          ]
        }
      ]
    },
    {
      "cell_type": "code",
      "source": [
        "target = data['Patient_Status']\n",
        "print(target)"
      ],
      "metadata": {
        "colab": {
          "base_uri": "https://localhost:8080/"
        },
        "id": "bDGuBRtj92MT",
        "outputId": "ddd214de-c2cc-443f-bc25-b236d5d3881d"
      },
      "execution_count": 17,
      "outputs": [
        {
          "output_type": "stream",
          "name": "stdout",
          "text": [
            "0      Alive\n",
            "1       Dead\n",
            "2      Alive\n",
            "3      Alive\n",
            "4      Alive\n",
            "       ...  \n",
            "329    Alive\n",
            "330    Alive\n",
            "331     Dead\n",
            "332    Alive\n",
            "333     Dead\n",
            "Name: Patient_Status, Length: 334, dtype: object\n"
          ]
        }
      ]
    },
    {
      "cell_type": "code",
      "source": [
        "data.Patient_Status[data.Patient_Status == 'Alive'] = 1\n",
        "data.Patient_Status[data.Patient_Status == 'Dead'] = 0\n",
        "\n",
        "print(data)"
      ],
      "metadata": {
        "colab": {
          "base_uri": "https://localhost:8080/"
        },
        "id": "3IMYUNn_PBsu",
        "outputId": "33b68b33-d8a7-43c1-d8bd-0c418ba894b3"
      },
      "execution_count": 22,
      "outputs": [
        {
          "output_type": "stream",
          "name": "stdout",
          "text": [
            "     Age  Gender  Protein1  Protein2  Protein3  Protein4 Tumour_Stage  \\\n",
            "0     42  FEMALE  0.952560   2.15000  0.007972 -0.048340           II   \n",
            "1     54  FEMALE  0.000000   1.38020 -0.498030 -0.507320           II   \n",
            "2     63  FEMALE -0.523030   1.76400 -0.370190  0.010815           II   \n",
            "3     78  FEMALE -0.876180   0.12943 -0.370380  0.132190            I   \n",
            "4     42  FEMALE  0.226110   1.74910 -0.543970 -0.390210           II   \n",
            "..   ...     ...       ...       ...       ...       ...          ...   \n",
            "329   59  FEMALE  0.024598   1.40050  0.024751  0.280320           II   \n",
            "330   41  FEMALE  0.100120  -0.46547  0.472370 -0.523870            I   \n",
            "331   54  FEMALE  0.753820   1.64250 -0.332850  0.857860           II   \n",
            "332   74  FEMALE  0.972510   1.42680 -0.366570 -0.107820           II   \n",
            "333   66  FEMALE  0.286380   1.39980  0.318830  0.836050           II   \n",
            "\n",
            "                          Histology ER status PR status HER2 status  \\\n",
            "0     Infiltrating Ductal Carcinoma  Positive  Positive    Negative   \n",
            "1     Infiltrating Ductal Carcinoma  Positive  Positive    Negative   \n",
            "2     Infiltrating Ductal Carcinoma  Positive  Positive    Negative   \n",
            "3     Infiltrating Ductal Carcinoma  Positive  Positive    Negative   \n",
            "4     Infiltrating Ductal Carcinoma  Positive  Positive    Positive   \n",
            "..                              ...       ...       ...         ...   \n",
            "329   Infiltrating Ductal Carcinoma  Positive  Positive    Positive   \n",
            "330   Infiltrating Ductal Carcinoma  Positive  Positive    Positive   \n",
            "331   Infiltrating Ductal Carcinoma  Positive  Positive    Negative   \n",
            "332  Infiltrating Lobular Carcinoma  Positive  Positive    Negative   \n",
            "333   Infiltrating Ductal Carcinoma  Positive  Positive    Negative   \n",
            "\n",
            "                    Surgery_type Date_of_Surgery Date_of_Last_Visit  \\\n",
            "0                          Other       20-May-18          26-Aug-18   \n",
            "1                          Other       26-Apr-18          25-Jan-19   \n",
            "2                     Lumpectomy       24-Aug-18          08-Apr-20   \n",
            "3                          Other       16-Nov-18          28-Jul-20   \n",
            "4                     Lumpectomy       12-Dec-18          05-Jan-19   \n",
            "..                           ...             ...                ...   \n",
            "329                   Lumpectomy       15-Jan-19          27-Mar-20   \n",
            "330  Modified Radical Mastectomy       25-Jul-18          23-Apr-19   \n",
            "331            Simple Mastectomy       26-Mar-19          11-Oct-19   \n",
            "332                   Lumpectomy       26-Nov-18          05-Dec-18   \n",
            "333  Modified Radical Mastectomy       04-Feb-19          10-Aug-19   \n",
            "\n",
            "    Patient_Status  \n",
            "0                1  \n",
            "1                0  \n",
            "2                1  \n",
            "3                1  \n",
            "4                1  \n",
            "..             ...  \n",
            "329              1  \n",
            "330              1  \n",
            "331              0  \n",
            "332              1  \n",
            "333              0  \n",
            "\n",
            "[334 rows x 15 columns]\n"
          ]
        },
        {
          "output_type": "stream",
          "name": "stderr",
          "text": [
            "<ipython-input-22-c1b2d368b48f>:1: SettingWithCopyWarning: \n",
            "A value is trying to be set on a copy of a slice from a DataFrame\n",
            "\n",
            "See the caveats in the documentation: https://pandas.pydata.org/pandas-docs/stable/user_guide/indexing.html#returning-a-view-versus-a-copy\n",
            "  data.Patient_Status[data.Patient_Status == 'Alive'] = 1\n",
            "<ipython-input-22-c1b2d368b48f>:2: SettingWithCopyWarning: \n",
            "A value is trying to be set on a copy of a slice from a DataFrame\n",
            "\n",
            "See the caveats in the documentation: https://pandas.pydata.org/pandas-docs/stable/user_guide/indexing.html#returning-a-view-versus-a-copy\n",
            "  data.Patient_Status[data.Patient_Status == 'Dead'] = 0\n"
          ]
        }
      ]
    },
    {
      "cell_type": "code",
      "source": [
        "from sklearn.model_selection import train_test_split\n",
        "column_name_mapping = {'ER status': 'ERstatus', 'PR status': 'PRstatus', 'HER2 status': 'HER2status'}\n",
        "\n",
        "# Use the rename() method to change the column names\n",
        "data.rename(columns=column_name_mapping, inplace=True)\n",
        "data.HER2status[data.HER2status== 'Positive'] = 1\n",
        "data.HER2status[data.HER2status== 'Negative'] = 0\n",
        "data.Tumour_Stage[data.Tumour_Stage == 'II'] = 2\n",
        "data.Tumour_Stage[data.Tumour_Stage == 'I'] = 1\n",
        "data.Tumour_Stage[data.Tumour_Stage == 'III'] = 3\n",
        "data.Surgery_type[data.Surgery_type == 'Other'] = 1\n",
        "data.Surgery_type[data.Surgery_type == 'Lumpectomy'] = 2\n",
        "data.Surgery_type[data.Surgery_type == 'Modified Radical Mastectomy'] = 3\n",
        "data.Surgery_type[data.Surgery_type == 'Simple Mastectomy'] = 4\n",
        "data = data.dropna()\n",
        "y = data['Patient_Status']\n",
        "X = data.drop(columns = ['Date_of_Surgery','Date_of_Last_Visit','Histology','Gender','ERstatus','PRstatus'])\n",
        "print(data)\n",
        "print(X)"
      ],
      "metadata": {
        "colab": {
          "base_uri": "https://localhost:8080/"
        },
        "id": "BzL0dZSpPISx",
        "outputId": "49e16310-951d-489b-86d5-9722ccefbc36"
      },
      "execution_count": 23,
      "outputs": [
        {
          "output_type": "stream",
          "name": "stdout",
          "text": [
            "     Age  Gender  Protein1  Protein2  Protein3  Protein4 Tumour_Stage  \\\n",
            "0     42  FEMALE  0.952560   2.15000  0.007972 -0.048340            2   \n",
            "1     54  FEMALE  0.000000   1.38020 -0.498030 -0.507320            2   \n",
            "2     63  FEMALE -0.523030   1.76400 -0.370190  0.010815            2   \n",
            "3     78  FEMALE -0.876180   0.12943 -0.370380  0.132190            1   \n",
            "4     42  FEMALE  0.226110   1.74910 -0.543970 -0.390210            2   \n",
            "..   ...     ...       ...       ...       ...       ...          ...   \n",
            "329   59  FEMALE  0.024598   1.40050  0.024751  0.280320            2   \n",
            "330   41  FEMALE  0.100120  -0.46547  0.472370 -0.523870            1   \n",
            "331   54  FEMALE  0.753820   1.64250 -0.332850  0.857860            2   \n",
            "332   74  FEMALE  0.972510   1.42680 -0.366570 -0.107820            2   \n",
            "333   66  FEMALE  0.286380   1.39980  0.318830  0.836050            2   \n",
            "\n",
            "                          Histology  ERstatus  PRstatus HER2status  \\\n",
            "0     Infiltrating Ductal Carcinoma  Positive  Positive          0   \n",
            "1     Infiltrating Ductal Carcinoma  Positive  Positive          0   \n",
            "2     Infiltrating Ductal Carcinoma  Positive  Positive          0   \n",
            "3     Infiltrating Ductal Carcinoma  Positive  Positive          0   \n",
            "4     Infiltrating Ductal Carcinoma  Positive  Positive          1   \n",
            "..                              ...       ...       ...        ...   \n",
            "329   Infiltrating Ductal Carcinoma  Positive  Positive          1   \n",
            "330   Infiltrating Ductal Carcinoma  Positive  Positive          1   \n",
            "331   Infiltrating Ductal Carcinoma  Positive  Positive          0   \n",
            "332  Infiltrating Lobular Carcinoma  Positive  Positive          0   \n",
            "333   Infiltrating Ductal Carcinoma  Positive  Positive          0   \n",
            "\n",
            "    Surgery_type Date_of_Surgery Date_of_Last_Visit Patient_Status  \n",
            "0              1       20-May-18          26-Aug-18              1  \n",
            "1              1       26-Apr-18          25-Jan-19              0  \n",
            "2              2       24-Aug-18          08-Apr-20              1  \n",
            "3              1       16-Nov-18          28-Jul-20              1  \n",
            "4              2       12-Dec-18          05-Jan-19              1  \n",
            "..           ...             ...                ...            ...  \n",
            "329            2       15-Jan-19          27-Mar-20              1  \n",
            "330            3       25-Jul-18          23-Apr-19              1  \n",
            "331            4       26-Mar-19          11-Oct-19              0  \n",
            "332            2       26-Nov-18          05-Dec-18              1  \n",
            "333            3       04-Feb-19          10-Aug-19              0  \n",
            "\n",
            "[317 rows x 15 columns]\n",
            "     Age  Protein1  Protein2  Protein3  Protein4 Tumour_Stage HER2status  \\\n",
            "0     42  0.952560   2.15000  0.007972 -0.048340            2          0   \n",
            "1     54  0.000000   1.38020 -0.498030 -0.507320            2          0   \n",
            "2     63 -0.523030   1.76400 -0.370190  0.010815            2          0   \n",
            "3     78 -0.876180   0.12943 -0.370380  0.132190            1          0   \n",
            "4     42  0.226110   1.74910 -0.543970 -0.390210            2          1   \n",
            "..   ...       ...       ...       ...       ...          ...        ...   \n",
            "329   59  0.024598   1.40050  0.024751  0.280320            2          1   \n",
            "330   41  0.100120  -0.46547  0.472370 -0.523870            1          1   \n",
            "331   54  0.753820   1.64250 -0.332850  0.857860            2          0   \n",
            "332   74  0.972510   1.42680 -0.366570 -0.107820            2          0   \n",
            "333   66  0.286380   1.39980  0.318830  0.836050            2          0   \n",
            "\n",
            "    Surgery_type Patient_Status  \n",
            "0              1              1  \n",
            "1              1              0  \n",
            "2              2              1  \n",
            "3              1              1  \n",
            "4              2              1  \n",
            "..           ...            ...  \n",
            "329            2              1  \n",
            "330            3              1  \n",
            "331            4              0  \n",
            "332            2              1  \n",
            "333            3              0  \n",
            "\n",
            "[317 rows x 9 columns]\n"
          ]
        },
        {
          "output_type": "stream",
          "name": "stderr",
          "text": [
            "<ipython-input-23-df8ec0fe572d>:6: SettingWithCopyWarning: \n",
            "A value is trying to be set on a copy of a slice from a DataFrame\n",
            "\n",
            "See the caveats in the documentation: https://pandas.pydata.org/pandas-docs/stable/user_guide/indexing.html#returning-a-view-versus-a-copy\n",
            "  data.HER2status[data.HER2status== 'Positive'] = 1\n",
            "<ipython-input-23-df8ec0fe572d>:7: SettingWithCopyWarning: \n",
            "A value is trying to be set on a copy of a slice from a DataFrame\n",
            "\n",
            "See the caveats in the documentation: https://pandas.pydata.org/pandas-docs/stable/user_guide/indexing.html#returning-a-view-versus-a-copy\n",
            "  data.HER2status[data.HER2status== 'Negative'] = 0\n",
            "<ipython-input-23-df8ec0fe572d>:8: SettingWithCopyWarning: \n",
            "A value is trying to be set on a copy of a slice from a DataFrame\n",
            "\n",
            "See the caveats in the documentation: https://pandas.pydata.org/pandas-docs/stable/user_guide/indexing.html#returning-a-view-versus-a-copy\n",
            "  data.Tumour_Stage[data.Tumour_Stage == 'II'] = 2\n",
            "<ipython-input-23-df8ec0fe572d>:9: SettingWithCopyWarning: \n",
            "A value is trying to be set on a copy of a slice from a DataFrame\n",
            "\n",
            "See the caveats in the documentation: https://pandas.pydata.org/pandas-docs/stable/user_guide/indexing.html#returning-a-view-versus-a-copy\n",
            "  data.Tumour_Stage[data.Tumour_Stage == 'I'] = 1\n",
            "<ipython-input-23-df8ec0fe572d>:10: SettingWithCopyWarning: \n",
            "A value is trying to be set on a copy of a slice from a DataFrame\n",
            "\n",
            "See the caveats in the documentation: https://pandas.pydata.org/pandas-docs/stable/user_guide/indexing.html#returning-a-view-versus-a-copy\n",
            "  data.Tumour_Stage[data.Tumour_Stage == 'III'] = 3\n",
            "<ipython-input-23-df8ec0fe572d>:11: SettingWithCopyWarning: \n",
            "A value is trying to be set on a copy of a slice from a DataFrame\n",
            "\n",
            "See the caveats in the documentation: https://pandas.pydata.org/pandas-docs/stable/user_guide/indexing.html#returning-a-view-versus-a-copy\n",
            "  data.Surgery_type[data.Surgery_type == 'Other'] = 1\n",
            "<ipython-input-23-df8ec0fe572d>:12: SettingWithCopyWarning: \n",
            "A value is trying to be set on a copy of a slice from a DataFrame\n",
            "\n",
            "See the caveats in the documentation: https://pandas.pydata.org/pandas-docs/stable/user_guide/indexing.html#returning-a-view-versus-a-copy\n",
            "  data.Surgery_type[data.Surgery_type == 'Lumpectomy'] = 2\n",
            "<ipython-input-23-df8ec0fe572d>:13: SettingWithCopyWarning: \n",
            "A value is trying to be set on a copy of a slice from a DataFrame\n",
            "\n",
            "See the caveats in the documentation: https://pandas.pydata.org/pandas-docs/stable/user_guide/indexing.html#returning-a-view-versus-a-copy\n",
            "  data.Surgery_type[data.Surgery_type == 'Modified Radical Mastectomy'] = 3\n",
            "<ipython-input-23-df8ec0fe572d>:14: SettingWithCopyWarning: \n",
            "A value is trying to be set on a copy of a slice from a DataFrame\n",
            "\n",
            "See the caveats in the documentation: https://pandas.pydata.org/pandas-docs/stable/user_guide/indexing.html#returning-a-view-versus-a-copy\n",
            "  data.Surgery_type[data.Surgery_type == 'Simple Mastectomy'] = 4\n"
          ]
        }
      ]
    },
    {
      "cell_type": "code",
      "source": [
        "from sklearn.model_selection import train_test_split\n",
        "from sklearn.preprocessing import StandardScaler\n",
        "from sklearn.linear_model import LogisticRegression\n",
        "from sklearn.metrics import accuracy_score, precision_score, recall_score, f1_score, roc_auc_score\n",
        "#Importing logistic regression function from scikit learn directly\n",
        "# Split the data into training and testing sets\n",
        "X_train, X_test, y_train, y_test = train_test_split(X, y, test_size=0.2, random_state=42)\n",
        "\n",
        "\n",
        "scaler = StandardScaler()\n",
        "X_train_scaled = scaler.fit_transform(X_train)\n",
        "X_test_scaled = scaler.transform(X_test)\n",
        "\n",
        "y_train = y_train.astype(int)\n",
        "y_test = y_test.astype(int)\n",
        "\n",
        "\n",
        "model = LogisticRegression()\n",
        "model.fit(X_train_scaled, y_train)\n",
        "\n",
        "\n",
        "y_pred = model.predict(X_test_scaled)\n",
        "print(y_pred)\n",
        "# Evaluate the model\n",
        "accuracy = accuracy_score(y_test, y_pred)\n",
        "print(accuracy)"
      ],
      "metadata": {
        "colab": {
          "base_uri": "https://localhost:8080/"
        },
        "id": "AT7l7lKKPMGj",
        "outputId": "5eda9b6f-cb4b-4c08-f697-fe803d086f62"
      },
      "execution_count": 24,
      "outputs": [
        {
          "output_type": "stream",
          "name": "stdout",
          "text": [
            "[1 0 0 1 1 1 1 1 1 1 0 1 1 1 1 1 1 1 1 1 0 1 0 0 0 1 1 1 1 0 1 1 1 1 0 1 0\n",
            " 1 1 1 1 1 1 1 1 1 1 1 1 1 1 0 1 1 1 1 1 1 0 1 1 1 0 1]\n",
            "1.0\n"
          ]
        }
      ]
    },
    {
      "cell_type": "code",
      "source": [
        "from sklearn.model_selection import train_test_split\n",
        "from sklearn.svm import SVC\n",
        "from sklearn.metrics import accuracy_score\n",
        "\n",
        "# Create and train an SVM classifier\n",
        "svm_classifier = SVC()\n",
        "svm_classifier.fit(X_train_scaled, y_train)\n",
        "\n",
        "# Predict and evaluate accuracy\n",
        "y_pred = svm_classifier.predict(X_test_scaled)\n",
        "accuracy_before_pca = accuracy_score(y_test, y_pred)\n",
        "print(accuracy_before_pca)"
      ],
      "metadata": {
        "colab": {
          "base_uri": "https://localhost:8080/"
        },
        "id": "-VRsQ0WCPO9i",
        "outputId": "5474f259-eb0f-4d54-84c5-d151f2bf8b1d"
      },
      "execution_count": 25,
      "outputs": [
        {
          "output_type": "stream",
          "name": "stdout",
          "text": [
            "1.0\n"
          ]
        }
      ]
    },
    {
      "cell_type": "code",
      "source": [
        "from sklearn.model_selection import RepeatedKFold\n",
        "from sklearn.linear_model import LogisticRegression\n",
        "from sklearn.svm import SVC\n",
        "from sklearn.datasets import make_classification\n",
        "from sklearn.model_selection import cross_val_score\n",
        "\n",
        "X, y = make_classification(n_samples=50, n_features=10, n_informative=5, n_redundant=5, random_state=1)\n",
        "\n",
        "n_folds = 5\n",
        "n_repeats = 10\n",
        "\n",
        "lr_model = LogisticRegression()\n",
        "svm_model = SVC()\n",
        "\n",
        "cv = RepeatedKFold(n_splits=n_folds, n_repeats=n_repeats, random_state=1)\n",
        "\n",
        "lr_scores = cross_val_score(lr_model, X, y, scoring='accuracy', cv=cv, n_jobs=-1)\n",
        "svm_scores = cross_val_score(svm_model, X, y, scoring='accuracy', cv=cv, n_jobs=-1)\n",
        "\n",
        "lr_mean, lr_std = np.mean(lr_scores), np.std(lr_scores)\n",
        "svm_mean, svm_std = np.mean(svm_scores), np.std(svm_scores)\n",
        "\n",
        "print('Logistic Regression: Accuracy=%.3f (%.3f)' % (lr_mean, lr_std))\n",
        "print('SVM: Accuracy=%.3f (%.3f)' % (svm_mean, svm_std))"
      ],
      "metadata": {
        "colab": {
          "base_uri": "https://localhost:8080/"
        },
        "id": "VBvSLXaNPR8v",
        "outputId": "ce622051-ac26-4e8c-9f78-1a93a7a30f33"
      },
      "execution_count": 26,
      "outputs": [
        {
          "output_type": "stream",
          "name": "stdout",
          "text": [
            "Logistic Regression: Accuracy=0.636 (0.152)\n",
            "SVM: Accuracy=0.792 (0.126)\n"
          ]
        }
      ]
    }
  ]
}